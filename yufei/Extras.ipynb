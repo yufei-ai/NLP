{
 "cells": [
  {
   "cell_type": "markdown",
   "metadata": {},
   "source": [
    "# Introduction to Natural Language Processing\n",
    "## Extra stuff\n",
    "### ASI Data Science Fellowship IX - 6th October 2017"
   ]
  },
  {
   "cell_type": "markdown",
   "metadata": {},
   "source": [
    "Because we're so lovely we've written you a python function that you can use to download tweets yourselves and experiment more with what we've taught you today. Feel free to experiment with other data sources too, such as movie reviews, news articles, or any other interesting text data you can think of.\n",
    "\n",
    "**Setup**\n",
    "To use the function you will need to supply your own twitter API credentials. Follow these steps to get set up.\n",
    "\n",
    "0. Double check that you have applied the `requirements` environment.\n",
    "1. Go to https://www.twitter.com and create a regular Twitter account if you don't already have one.\n",
    "2. Join https://dev.twitter.com/ .\n",
    "3. Go to https://apps.twitter.com/ .\n",
    "4. Log in then create a new app\n",
    "    - Call the app something like 'ASI-nlp-yourname' .\n",
    "    - Describe it with something like 'Having some fun with text data'.\n",
    "    - Use http://maddox.xmission.com/ as the website to spam Maddox.\n",
    "5. Go to the \"Keys and Access Tokens\" tab for your app.\n",
    "6. Generate an access token (last item on page).\n",
    "7. Now create a file in your directory called `twitter_auth.json`.\n",
    "8. Enter the secrets into this file like this:\n",
    "\n",
    "```json\n",
    "{\"consumer_key\" : \"fill here\",\n",
    "\"consumer_secret\" : \"fill here\",\n",
    "\"access_token\" : \"fill here\",\n",
    "\"access_token_secret\" : \"fill here\"}\n",
    "```\n",
    "\n",
    "You can now run the code below to download tweets!"
   ]
  },
  {
   "cell_type": "code",
   "execution_count": null,
   "metadata": {
    "collapsed": true
   },
   "outputs": [],
   "source": [
    "from asi_nlp.util import load_json\n",
    "from asi_nlp.twitter import get_all_tweets\n",
    "\n",
    "## change the path to point to your credentials json\n",
    "secrets = load_json('/project/<your_name>/twitter_auth.json')\n",
    "\n",
    "df_tweets = get_all_tweets('realDonaldTrump', secrets)"
   ]
  }
 ],
 "metadata": {
  "kernelspec": {
   "display_name": "Python [conda env:Python3]",
   "language": "python",
   "name": "conda-env-Python3-py"
  },
  "language_info": {
   "codemirror_mode": {
    "name": "ipython",
    "version": 3
   },
   "file_extension": ".py",
   "mimetype": "text/x-python",
   "name": "python",
   "nbconvert_exporter": "python",
   "pygments_lexer": "ipython3",
   "version": "3.6.1"
  }
 },
 "nbformat": 4,
 "nbformat_minor": 2
}
